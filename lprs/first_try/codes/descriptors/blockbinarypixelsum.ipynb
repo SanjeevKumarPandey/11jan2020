{
  "cells": [
    {
      "cell_type": "code",
      "metadata": {},
      "source": [
        "# import the necessary packages\n",
        "import numpy as np\n",
        "import cv2\n",
        "\n",
        "class BlockBinaryPixelSum:\n",
        "\tdef __init__(self, targetSize=(30, 15), blockSizes=((5, 5),)):\n",
        "\t\t# store the target size of the image to be described along with the set of block sizes\n",
        "\t\tself.targetSize = targetSize\n",
        "\t\tself.blockSizes = blockSizes\n",
        "\n",
        "\tdef describe(self, image):\n",
        "\t\t# resize the image to the target size and initialize the feature vector\n",
        "\t\timage = cv2.resize(image, (self.targetSize[1], self.targetSize[0]))\n",
        "\t\tfeatures = []\n",
        "\n",
        "\t\t# loop over the block sizes\n",
        "\t\tfor (blockW, blockH) in self.blockSizes:\n",
        "\t\t\t# loop over the image for the current block size\n",
        "\t\t\tfor y in range(0, image.shape[0], blockH):\n",
        "\t\t\t\tfor x in range(0, image.shape[1], blockW):\n",
        "\t\t\t\t\t# extract the current ROI, count the total number of non-zero pixels in the\n",
        "\t\t\t\t\t# ROI, normalizing by the total size of the block\n",
        "\t\t\t\t\troi = image[y:y + blockH, x:x + blockW]\n",
        "\t\t\t\t\ttotal = cv2.countNonZero(roi) / float(roi.shape[0] * roi.shape[1])\n",
        "\n",
        "\t\t\t\t\t# update the feature vector\n",
        "\t\t\t\t\tfeatures.append(total)\n",
        "\n",
        "\t\t# return the features\n",
        "\t\treturn np.array(features)"
      ],
      "outputs": [],
      "execution_count": null
    }
  ],
  "metadata": {
    "anaconda-cloud": {},
    "kernelspec": {
      "display_name": "Python 3",
      "language": "python",
      "name": "python3"
    },
    "language_info": {
      "codemirror_mode": {
        "name": "ipython",
        "version": 3
      },
      "file_extension": ".py",
      "mimetype": "text/x-python",
      "name": "python",
      "nbconvert_exporter": "python",
      "pygments_lexer": "ipython3",
      "version": "3.6.1"
    }
  },
  "nbformat": 4,
  "nbformat_minor": 1
}